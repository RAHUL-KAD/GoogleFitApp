{
  "nbformat": 4,
  "nbformat_minor": 0,
  "metadata": {
    "colab": {
      "name": "Google fit.ipynb",
      "provenance": [],
      "collapsed_sections": []
    },
    "kernelspec": {
      "name": "python3",
      "display_name": "Python 3"
    },
    "language_info": {
      "name": "python"
    }
  },
  "cells": [
    {
      "cell_type": "markdown",
      "metadata": {
        "id": "S7CP7psCd8BC"
      },
      "source": [
        "## Importing library and dataset"
      ]
    },
    {
      "cell_type": "code",
      "metadata": {
        "id": "tGYfTdZd2fr3"
      },
      "source": [
        "import pandas as pd\n",
        "import numpy as np\n",
        "import matplotlib.pyplot as plt\n",
        "import seaborn as sns\n",
        "import tensorflow as tf"
      ],
      "execution_count": null,
      "outputs": []
    },
    {
      "cell_type": "code",
      "metadata": {
        "id": "NI_4SXQ_3Oe9"
      },
      "source": [
        "train = pd.read_csv('/content/drive/MyDrive/Deep learning/Dataset/GoogleFit.csv')\n",
        "test = pd.read_csv('/content/drive/MyDrive/Deep learning/Dataset/Daily activity metrics.csv')"
      ],
      "execution_count": null,
      "outputs": []
    },
    {
      "cell_type": "code",
      "metadata": {
        "colab": {
          "base_uri": "https://localhost:8080/",
          "height": 383
        },
        "id": "EC9lkn7H3ZP8",
        "outputId": "c7906bf8-ddd8-4901-cb59-b23a021f6887"
      },
      "source": [
        "train.head(10)"
      ],
      "execution_count": null,
      "outputs": [
        {
          "output_type": "execute_result",
          "data": {
            "text/html": [
              "<div>\n",
              "<style scoped>\n",
              "    .dataframe tbody tr th:only-of-type {\n",
              "        vertical-align: middle;\n",
              "    }\n",
              "\n",
              "    .dataframe tbody tr th {\n",
              "        vertical-align: top;\n",
              "    }\n",
              "\n",
              "    .dataframe thead th {\n",
              "        text-align: right;\n",
              "    }\n",
              "</style>\n",
              "<table border=\"1\" class=\"dataframe\">\n",
              "  <thead>\n",
              "    <tr style=\"text-align: right;\">\n",
              "      <th></th>\n",
              "      <th>Date</th>\n",
              "      <th>Calories</th>\n",
              "      <th>Distance</th>\n",
              "      <th>Low_latitude</th>\n",
              "      <th>Low_longitude</th>\n",
              "      <th>High_latitude</th>\n",
              "      <th>High_longitude</th>\n",
              "      <th>Average_speed</th>\n",
              "      <th>Max_speed</th>\n",
              "      <th>Min_speed</th>\n",
              "      <th>Step_count</th>\n",
              "      <th>Average_weight</th>\n",
              "      <th>Max_weight</th>\n",
              "      <th>Min_weight</th>\n",
              "      <th>Move</th>\n",
              "      <th>Heart_point</th>\n",
              "      <th>Heart_minutes</th>\n",
              "      <th>Biking_duration</th>\n",
              "      <th>Inactive_duration</th>\n",
              "      <th>Walking_duration</th>\n",
              "      <th>Running_duration</th>\n",
              "    </tr>\n",
              "  </thead>\n",
              "  <tbody>\n",
              "    <tr>\n",
              "      <th>0</th>\n",
              "      <td>09-01-19</td>\n",
              "      <td>2009.732700</td>\n",
              "      <td>7372.049643</td>\n",
              "      <td>12.983699</td>\n",
              "      <td>80.227514</td>\n",
              "      <td>12.989529</td>\n",
              "      <td>80.236091</td>\n",
              "      <td>1.018094</td>\n",
              "      <td>8.620000</td>\n",
              "      <td>0.113022</td>\n",
              "      <td>12716</td>\n",
              "      <td>NaN</td>\n",
              "      <td>NaN</td>\n",
              "      <td>NaN</td>\n",
              "      <td>151</td>\n",
              "      <td>44.0</td>\n",
              "      <td>44.0</td>\n",
              "      <td>NaN</td>\n",
              "      <td>75266222.0</td>\n",
              "      <td>8753841.0</td>\n",
              "      <td>NaN</td>\n",
              "    </tr>\n",
              "    <tr>\n",
              "      <th>1</th>\n",
              "      <td>09-02-19</td>\n",
              "      <td>2041.791085</td>\n",
              "      <td>7633.338808</td>\n",
              "      <td>12.983831</td>\n",
              "      <td>80.223028</td>\n",
              "      <td>12.989600</td>\n",
              "      <td>80.236139</td>\n",
              "      <td>0.789021</td>\n",
              "      <td>6.580000</td>\n",
              "      <td>0.050601</td>\n",
              "      <td>10548</td>\n",
              "      <td>NaN</td>\n",
              "      <td>NaN</td>\n",
              "      <td>NaN</td>\n",
              "      <td>159</td>\n",
              "      <td>55.0</td>\n",
              "      <td>55.0</td>\n",
              "      <td>1918502.0</td>\n",
              "      <td>74089157.0</td>\n",
              "      <td>7288987.0</td>\n",
              "      <td>NaN</td>\n",
              "    </tr>\n",
              "    <tr>\n",
              "      <th>2</th>\n",
              "      <td>09-03-19</td>\n",
              "      <td>1876.149418</td>\n",
              "      <td>5140.428308</td>\n",
              "      <td>12.983987</td>\n",
              "      <td>80.226966</td>\n",
              "      <td>12.991754</td>\n",
              "      <td>80.235849</td>\n",
              "      <td>0.725031</td>\n",
              "      <td>3.440000</td>\n",
              "      <td>0.249939</td>\n",
              "      <td>10255</td>\n",
              "      <td>NaN</td>\n",
              "      <td>NaN</td>\n",
              "      <td>NaN</td>\n",
              "      <td>119</td>\n",
              "      <td>20.0</td>\n",
              "      <td>20.0</td>\n",
              "      <td>NaN</td>\n",
              "      <td>76647141.0</td>\n",
              "      <td>6306102.0</td>\n",
              "      <td>NaN</td>\n",
              "    </tr>\n",
              "    <tr>\n",
              "      <th>3</th>\n",
              "      <td>09-04-19</td>\n",
              "      <td>1844.911027</td>\n",
              "      <td>4988.634070</td>\n",
              "      <td>12.984084</td>\n",
              "      <td>80.230325</td>\n",
              "      <td>12.990601</td>\n",
              "      <td>80.235497</td>\n",
              "      <td>0.612671</td>\n",
              "      <td>1.722482</td>\n",
              "      <td>0.272343</td>\n",
              "      <td>9016</td>\n",
              "      <td>NaN</td>\n",
              "      <td>NaN</td>\n",
              "      <td>NaN</td>\n",
              "      <td>105</td>\n",
              "      <td>18.0</td>\n",
              "      <td>18.0</td>\n",
              "      <td>NaN</td>\n",
              "      <td>74344589.0</td>\n",
              "      <td>5729432.0</td>\n",
              "      <td>NaN</td>\n",
              "    </tr>\n",
              "    <tr>\n",
              "      <th>4</th>\n",
              "      <td>09-05-19</td>\n",
              "      <td>2195.678803</td>\n",
              "      <td>11043.779040</td>\n",
              "      <td>12.978630</td>\n",
              "      <td>80.227057</td>\n",
              "      <td>12.991766</td>\n",
              "      <td>80.237433</td>\n",
              "      <td>0.770244</td>\n",
              "      <td>7.000000</td>\n",
              "      <td>0.105016</td>\n",
              "      <td>12070</td>\n",
              "      <td>NaN</td>\n",
              "      <td>NaN</td>\n",
              "      <td>NaN</td>\n",
              "      <td>200</td>\n",
              "      <td>83.0</td>\n",
              "      <td>83.0</td>\n",
              "      <td>3760724.0</td>\n",
              "      <td>71333463.0</td>\n",
              "      <td>8129991.0</td>\n",
              "      <td>NaN</td>\n",
              "    </tr>\n",
              "    <tr>\n",
              "      <th>5</th>\n",
              "      <td>09-06-19</td>\n",
              "      <td>2345.289397</td>\n",
              "      <td>17741.588480</td>\n",
              "      <td>12.975647</td>\n",
              "      <td>80.227592</td>\n",
              "      <td>12.991398</td>\n",
              "      <td>80.266664</td>\n",
              "      <td>0.800691</td>\n",
              "      <td>8.000000</td>\n",
              "      <td>0.099408</td>\n",
              "      <td>15108</td>\n",
              "      <td>NaN</td>\n",
              "      <td>NaN</td>\n",
              "      <td>NaN</td>\n",
              "      <td>265</td>\n",
              "      <td>95.0</td>\n",
              "      <td>94.0</td>\n",
              "      <td>4540081.0</td>\n",
              "      <td>62807580.0</td>\n",
              "      <td>10045818.0</td>\n",
              "      <td>NaN</td>\n",
              "    </tr>\n",
              "    <tr>\n",
              "      <th>6</th>\n",
              "      <td>09-07-19</td>\n",
              "      <td>2030.342427</td>\n",
              "      <td>9360.556404</td>\n",
              "      <td>12.984065</td>\n",
              "      <td>80.223292</td>\n",
              "      <td>12.990993</td>\n",
              "      <td>80.238017</td>\n",
              "      <td>0.807562</td>\n",
              "      <td>5.922678</td>\n",
              "      <td>0.050902</td>\n",
              "      <td>8860</td>\n",
              "      <td>NaN</td>\n",
              "      <td>NaN</td>\n",
              "      <td>NaN</td>\n",
              "      <td>158</td>\n",
              "      <td>64.0</td>\n",
              "      <td>64.0</td>\n",
              "      <td>2760093.0</td>\n",
              "      <td>75093085.0</td>\n",
              "      <td>6178829.0</td>\n",
              "      <td>NaN</td>\n",
              "    </tr>\n",
              "    <tr>\n",
              "      <th>7</th>\n",
              "      <td>09-08-19</td>\n",
              "      <td>2054.223215</td>\n",
              "      <td>8687.392848</td>\n",
              "      <td>12.983893</td>\n",
              "      <td>80.211745</td>\n",
              "      <td>13.082810</td>\n",
              "      <td>80.262833</td>\n",
              "      <td>1.286486</td>\n",
              "      <td>34.000000</td>\n",
              "      <td>0.019649</td>\n",
              "      <td>12410</td>\n",
              "      <td>NaN</td>\n",
              "      <td>NaN</td>\n",
              "      <td>NaN</td>\n",
              "      <td>178</td>\n",
              "      <td>61.0</td>\n",
              "      <td>61.0</td>\n",
              "      <td>1788681.0</td>\n",
              "      <td>66994785.0</td>\n",
              "      <td>7648812.0</td>\n",
              "      <td>NaN</td>\n",
              "    </tr>\n",
              "    <tr>\n",
              "      <th>8</th>\n",
              "      <td>09-09-19</td>\n",
              "      <td>2149.296599</td>\n",
              "      <td>8644.655754</td>\n",
              "      <td>12.983895</td>\n",
              "      <td>80.217867</td>\n",
              "      <td>12.990996</td>\n",
              "      <td>80.235658</td>\n",
              "      <td>0.764365</td>\n",
              "      <td>13.000000</td>\n",
              "      <td>0.021920</td>\n",
              "      <td>6798</td>\n",
              "      <td>NaN</td>\n",
              "      <td>NaN</td>\n",
              "      <td>NaN</td>\n",
              "      <td>191</td>\n",
              "      <td>92.0</td>\n",
              "      <td>92.0</td>\n",
              "      <td>5857009.0</td>\n",
              "      <td>71196923.0</td>\n",
              "      <td>5012775.0</td>\n",
              "      <td>NaN</td>\n",
              "    </tr>\n",
              "    <tr>\n",
              "      <th>9</th>\n",
              "      <td>09-10-19</td>\n",
              "      <td>2182.886665</td>\n",
              "      <td>10730.159510</td>\n",
              "      <td>12.981148</td>\n",
              "      <td>80.227216</td>\n",
              "      <td>12.991208</td>\n",
              "      <td>80.237936</td>\n",
              "      <td>0.656689</td>\n",
              "      <td>3.820000</td>\n",
              "      <td>0.080507</td>\n",
              "      <td>5351</td>\n",
              "      <td>NaN</td>\n",
              "      <td>NaN</td>\n",
              "      <td>NaN</td>\n",
              "      <td>185</td>\n",
              "      <td>115.0</td>\n",
              "      <td>115.0</td>\n",
              "      <td>7312605.0</td>\n",
              "      <td>71224195.0</td>\n",
              "      <td>4091613.0</td>\n",
              "      <td>NaN</td>\n",
              "    </tr>\n",
              "  </tbody>\n",
              "</table>\n",
              "</div>"
            ],
            "text/plain": [
              "       Date     Calories  ...  Walking_duration  Running_duration\n",
              "0  09-01-19  2009.732700  ...         8753841.0               NaN\n",
              "1  09-02-19  2041.791085  ...         7288987.0               NaN\n",
              "2  09-03-19  1876.149418  ...         6306102.0               NaN\n",
              "3  09-04-19  1844.911027  ...         5729432.0               NaN\n",
              "4  09-05-19  2195.678803  ...         8129991.0               NaN\n",
              "5  09-06-19  2345.289397  ...        10045818.0               NaN\n",
              "6  09-07-19  2030.342427  ...         6178829.0               NaN\n",
              "7  09-08-19  2054.223215  ...         7648812.0               NaN\n",
              "8  09-09-19  2149.296599  ...         5012775.0               NaN\n",
              "9  09-10-19  2182.886665  ...         4091613.0               NaN\n",
              "\n",
              "[10 rows x 21 columns]"
            ]
          },
          "metadata": {
            "tags": []
          },
          "execution_count": 3
        }
      ]
    },
    {
      "cell_type": "code",
      "metadata": {
        "colab": {
          "base_uri": "https://localhost:8080/"
        },
        "id": "3Q50yae_3lM-",
        "outputId": "3fe10d74-ee19-446f-e1c7-3783860a6ef8"
      },
      "source": [
        "test.columns"
      ],
      "execution_count": null,
      "outputs": [
        {
          "output_type": "execute_result",
          "data": {
            "text/plain": [
              "Index(['Date', 'Average weight (kg)', 'Max weight (kg)', 'Min weight (kg)',\n",
              "       'Calories (kcal)', 'Heart Points', 'Heart Minutes',\n",
              "       'Low latitude (deg)', 'Low longitude (deg)', 'High latitude (deg)',\n",
              "       'High longitude (deg)', 'Step count', 'Distance (m)',\n",
              "       'Average speed (m/s)', 'Max speed (m/s)', 'Min speed (m/s)',\n",
              "       'Move Minutes count', 'Biking duration (ms)', 'Inactive duration (ms)',\n",
              "       'Walking duration (ms)', 'Running duration (ms)',\n",
              "       'Circuit training duration (ms)'],\n",
              "      dtype='object')"
            ]
          },
          "metadata": {
            "tags": []
          },
          "execution_count": 4
        }
      ]
    },
    {
      "cell_type": "code",
      "metadata": {
        "colab": {
          "base_uri": "https://localhost:8080/",
          "height": 320
        },
        "id": "HvTHvCfseqCp",
        "outputId": "edc03579-21a1-40e9-84fa-f0852125b304"
      },
      "source": [
        "train.describe()"
      ],
      "execution_count": null,
      "outputs": [
        {
          "output_type": "execute_result",
          "data": {
            "text/html": [
              "<div>\n",
              "<style scoped>\n",
              "    .dataframe tbody tr th:only-of-type {\n",
              "        vertical-align: middle;\n",
              "    }\n",
              "\n",
              "    .dataframe tbody tr th {\n",
              "        vertical-align: top;\n",
              "    }\n",
              "\n",
              "    .dataframe thead th {\n",
              "        text-align: right;\n",
              "    }\n",
              "</style>\n",
              "<table border=\"1\" class=\"dataframe\">\n",
              "  <thead>\n",
              "    <tr style=\"text-align: right;\">\n",
              "      <th></th>\n",
              "      <th>Calories</th>\n",
              "      <th>Distance</th>\n",
              "      <th>Low_latitude</th>\n",
              "      <th>Low_longitude</th>\n",
              "      <th>High_latitude</th>\n",
              "      <th>High_longitude</th>\n",
              "      <th>Average_speed</th>\n",
              "      <th>Max_speed</th>\n",
              "      <th>Min_speed</th>\n",
              "      <th>Step_count</th>\n",
              "      <th>Average_weight</th>\n",
              "      <th>Max_weight</th>\n",
              "      <th>Min_weight</th>\n",
              "      <th>Move</th>\n",
              "      <th>Heart_point</th>\n",
              "      <th>Heart_minutes</th>\n",
              "      <th>Biking_duration</th>\n",
              "      <th>Inactive_duration</th>\n",
              "      <th>Walking_duration</th>\n",
              "      <th>Running_duration</th>\n",
              "    </tr>\n",
              "  </thead>\n",
              "  <tbody>\n",
              "    <tr>\n",
              "      <th>count</th>\n",
              "      <td>366.000000</td>\n",
              "      <td>365.000000</td>\n",
              "      <td>238.000000</td>\n",
              "      <td>238.000000</td>\n",
              "      <td>238.000000</td>\n",
              "      <td>238.000000</td>\n",
              "      <td>366.000000</td>\n",
              "      <td>366.000000</td>\n",
              "      <td>366.000000</td>\n",
              "      <td>366.000000</td>\n",
              "      <td>0.0</td>\n",
              "      <td>0.0</td>\n",
              "      <td>0.0</td>\n",
              "      <td>366.000000</td>\n",
              "      <td>294.000000</td>\n",
              "      <td>294.000000</td>\n",
              "      <td>1.910000e+02</td>\n",
              "      <td>3.650000e+02</td>\n",
              "      <td>3.650000e+02</td>\n",
              "      <td>7.500000e+01</td>\n",
              "    </tr>\n",
              "    <tr>\n",
              "      <th>mean</th>\n",
              "      <td>1835.214947</td>\n",
              "      <td>4810.123123</td>\n",
              "      <td>13.889510</td>\n",
              "      <td>78.784630</td>\n",
              "      <td>13.916141</td>\n",
              "      <td>78.808591</td>\n",
              "      <td>0.692132</td>\n",
              "      <td>5.754884</td>\n",
              "      <td>0.183584</td>\n",
              "      <td>6096.439891</td>\n",
              "      <td>NaN</td>\n",
              "      <td>NaN</td>\n",
              "      <td>NaN</td>\n",
              "      <td>101.989071</td>\n",
              "      <td>38.993197</td>\n",
              "      <td>38.948980</td>\n",
              "      <td>3.175053e+06</td>\n",
              "      <td>7.265569e+07</td>\n",
              "      <td>3.709550e+06</td>\n",
              "      <td>1.787124e+05</td>\n",
              "    </tr>\n",
              "    <tr>\n",
              "      <th>std</th>\n",
              "      <td>189.772429</td>\n",
              "      <td>3040.825941</td>\n",
              "      <td>1.736172</td>\n",
              "      <td>2.568267</td>\n",
              "      <td>1.744408</td>\n",
              "      <td>2.570004</td>\n",
              "      <td>0.812580</td>\n",
              "      <td>9.111019</td>\n",
              "      <td>0.097400</td>\n",
              "      <td>3063.866088</td>\n",
              "      <td>NaN</td>\n",
              "      <td>NaN</td>\n",
              "      <td>NaN</td>\n",
              "      <td>53.649342</td>\n",
              "      <td>32.868857</td>\n",
              "      <td>32.881016</td>\n",
              "      <td>1.979019e+06</td>\n",
              "      <td>8.890072e+06</td>\n",
              "      <td>2.233374e+06</td>\n",
              "      <td>3.080528e+05</td>\n",
              "    </tr>\n",
              "    <tr>\n",
              "      <th>min</th>\n",
              "      <td>1355.707450</td>\n",
              "      <td>485.193509</td>\n",
              "      <td>10.782374</td>\n",
              "      <td>73.720718</td>\n",
              "      <td>10.958456</td>\n",
              "      <td>73.947797</td>\n",
              "      <td>0.336518</td>\n",
              "      <td>0.670411</td>\n",
              "      <td>0.000000</td>\n",
              "      <td>1219.000000</td>\n",
              "      <td>NaN</td>\n",
              "      <td>NaN</td>\n",
              "      <td>NaN</td>\n",
              "      <td>7.000000</td>\n",
              "      <td>1.000000</td>\n",
              "      <td>1.000000</td>\n",
              "      <td>7.286300e+04</td>\n",
              "      <td>1.329120e+07</td>\n",
              "      <td>2.588360e+05</td>\n",
              "      <td>1.429900e+04</td>\n",
              "    </tr>\n",
              "    <tr>\n",
              "      <th>25%</th>\n",
              "      <td>1694.402865</td>\n",
              "      <td>2736.571182</td>\n",
              "      <td>12.983810</td>\n",
              "      <td>79.796897</td>\n",
              "      <td>12.990956</td>\n",
              "      <td>80.233082</td>\n",
              "      <td>0.450269</td>\n",
              "      <td>1.676575</td>\n",
              "      <td>0.088567</td>\n",
              "      <td>3918.750000</td>\n",
              "      <td>NaN</td>\n",
              "      <td>NaN</td>\n",
              "      <td>NaN</td>\n",
              "      <td>64.250000</td>\n",
              "      <td>11.000000</td>\n",
              "      <td>11.000000</td>\n",
              "      <td>1.672325e+06</td>\n",
              "      <td>7.100670e+07</td>\n",
              "      <td>2.255896e+06</td>\n",
              "      <td>6.140500e+04</td>\n",
              "    </tr>\n",
              "    <tr>\n",
              "      <th>50%</th>\n",
              "      <td>1803.765904</td>\n",
              "      <td>4182.199020</td>\n",
              "      <td>12.984047</td>\n",
              "      <td>80.227002</td>\n",
              "      <td>12.991954</td>\n",
              "      <td>80.235950</td>\n",
              "      <td>0.523461</td>\n",
              "      <td>3.174675</td>\n",
              "      <td>0.247894</td>\n",
              "      <td>5541.000000</td>\n",
              "      <td>NaN</td>\n",
              "      <td>NaN</td>\n",
              "      <td>NaN</td>\n",
              "      <td>95.000000</td>\n",
              "      <td>30.000000</td>\n",
              "      <td>30.000000</td>\n",
              "      <td>2.853419e+06</td>\n",
              "      <td>7.482039e+07</td>\n",
              "      <td>3.231907e+06</td>\n",
              "      <td>9.209200e+04</td>\n",
              "    </tr>\n",
              "    <tr>\n",
              "      <th>75%</th>\n",
              "      <td>1936.212027</td>\n",
              "      <td>6111.382125</td>\n",
              "      <td>12.986809</td>\n",
              "      <td>80.230924</td>\n",
              "      <td>13.071079</td>\n",
              "      <td>80.237413</td>\n",
              "      <td>0.667268</td>\n",
              "      <td>5.465365</td>\n",
              "      <td>0.255029</td>\n",
              "      <td>7385.750000</td>\n",
              "      <td>NaN</td>\n",
              "      <td>NaN</td>\n",
              "      <td>NaN</td>\n",
              "      <td>133.000000</td>\n",
              "      <td>61.000000</td>\n",
              "      <td>61.000000</td>\n",
              "      <td>4.392447e+06</td>\n",
              "      <td>7.736946e+07</td>\n",
              "      <td>4.617388e+06</td>\n",
              "      <td>1.539920e+05</td>\n",
              "    </tr>\n",
              "    <tr>\n",
              "      <th>max</th>\n",
              "      <td>2522.926964</td>\n",
              "      <td>23502.031700</td>\n",
              "      <td>18.998387</td>\n",
              "      <td>80.235076</td>\n",
              "      <td>19.606444</td>\n",
              "      <td>80.275746</td>\n",
              "      <td>9.797274</td>\n",
              "      <td>81.923134</td>\n",
              "      <td>0.510000</td>\n",
              "      <td>21925.000000</td>\n",
              "      <td>NaN</td>\n",
              "      <td>NaN</td>\n",
              "      <td>NaN</td>\n",
              "      <td>302.000000</td>\n",
              "      <td>151.000000</td>\n",
              "      <td>151.000000</td>\n",
              "      <td>9.598403e+06</td>\n",
              "      <td>8.363938e+07</td>\n",
              "      <td>1.485768e+07</td>\n",
              "      <td>2.337409e+06</td>\n",
              "    </tr>\n",
              "  </tbody>\n",
              "</table>\n",
              "</div>"
            ],
            "text/plain": [
              "          Calories      Distance  ...  Walking_duration  Running_duration\n",
              "count   366.000000    365.000000  ...      3.650000e+02      7.500000e+01\n",
              "mean   1835.214947   4810.123123  ...      3.709550e+06      1.787124e+05\n",
              "std     189.772429   3040.825941  ...      2.233374e+06      3.080528e+05\n",
              "min    1355.707450    485.193509  ...      2.588360e+05      1.429900e+04\n",
              "25%    1694.402865   2736.571182  ...      2.255896e+06      6.140500e+04\n",
              "50%    1803.765904   4182.199020  ...      3.231907e+06      9.209200e+04\n",
              "75%    1936.212027   6111.382125  ...      4.617388e+06      1.539920e+05\n",
              "max    2522.926964  23502.031700  ...      1.485768e+07      2.337409e+06\n",
              "\n",
              "[8 rows x 20 columns]"
            ]
          },
          "metadata": {
            "tags": []
          },
          "execution_count": 5
        }
      ]
    },
    {
      "cell_type": "markdown",
      "metadata": {
        "id": "TItrg2aHeKUK"
      },
      "source": [
        "## Spliting dataset into dependent and independent variables"
      ]
    },
    {
      "cell_type": "code",
      "metadata": {
        "colab": {
          "base_uri": "https://localhost:8080/"
        },
        "id": "HMwORxul55X2",
        "outputId": "4d15e11a-9cb6-4683-e564-a25f60495343"
      },
      "source": [
        "print(train.columns)\n",
        "features_train = [ 'Heart_point', 'Heart_minutes', 'Step_count', 'Distance',  'Average_speed', 'Move ', 'Walking_duration']\n",
        "train_X = train[features_train]\n",
        "\n",
        "train_y = train['Calories']\n",
        "train_y = train_y.values.reshape(-1, 1)\n",
        "print(train_y.shape)"
      ],
      "execution_count": null,
      "outputs": [
        {
          "output_type": "stream",
          "text": [
            "Index(['Date', 'Calories', 'Distance', 'Low_latitude', 'Low_longitude',\n",
            "       'High_latitude', 'High_longitude', 'Average_speed', 'Max_speed',\n",
            "       'Min_speed', 'Step_count', 'Average_weight', 'Max_weight', 'Min_weight',\n",
            "       'Move ', 'Heart_point', 'Heart_minutes', 'Biking_duration',\n",
            "       'Inactive_duration', 'Walking_duration', 'Running_duration'],\n",
            "      dtype='object')\n",
            "(366, 1)\n"
          ],
          "name": "stdout"
        }
      ]
    },
    {
      "cell_type": "code",
      "metadata": {
        "id": "DdKxJ7Xl3nhl",
        "colab": {
          "base_uri": "https://localhost:8080/"
        },
        "outputId": "3016f719-363f-4340-d925-c4dec6390afc"
      },
      "source": [
        "features_test = ['Heart Points', 'Heart Minutes', 'Step count', 'Distance (m)', 'Average speed (m/s)', 'Move Minutes count',  \n",
        "                  'Walking duration (ms)']\n",
        "test_X = test[features_test]\n",
        "test_y = test['Calories (kcal)']\n",
        "test_y = test_y.values.reshape(-1, 1)\n",
        "print(test_y.shape)"
      ],
      "execution_count": null,
      "outputs": [
        {
          "output_type": "stream",
          "text": [
            "(110, 1)\n"
          ],
          "name": "stdout"
        }
      ]
    },
    {
      "cell_type": "code",
      "metadata": {
        "colab": {
          "base_uri": "https://localhost:8080/"
        },
        "id": "zoWn7KWk4qr2",
        "outputId": "9dd6eefd-dced-4129-aa2d-05c758e91548"
      },
      "source": [
        "print(train_X.shape)\n",
        "print(train_y.shape)"
      ],
      "execution_count": null,
      "outputs": [
        {
          "output_type": "stream",
          "text": [
            "(366, 7)\n",
            "(366, 1)\n"
          ],
          "name": "stdout"
        }
      ]
    },
    {
      "cell_type": "code",
      "metadata": {
        "colab": {
          "base_uri": "https://localhost:8080/"
        },
        "id": "74UtHIpc5SYZ",
        "outputId": "b891bd7e-fab5-4967-f8a0-d84eb11ddf1c"
      },
      "source": [
        "test_X.shape"
      ],
      "execution_count": null,
      "outputs": [
        {
          "output_type": "execute_result",
          "data": {
            "text/plain": [
              "(110, 7)"
            ]
          },
          "metadata": {
            "tags": []
          },
          "execution_count": 9
        }
      ]
    },
    {
      "cell_type": "code",
      "metadata": {
        "colab": {
          "base_uri": "https://localhost:8080/"
        },
        "id": "Q09BhIGY7ILm",
        "outputId": "fb7b7c0a-64bb-4ce2-9032-1d235e9ea15b"
      },
      "source": [
        "train_X.isna().sum()"
      ],
      "execution_count": null,
      "outputs": [
        {
          "output_type": "execute_result",
          "data": {
            "text/plain": [
              "Heart_point         72\n",
              "Heart_minutes       72\n",
              "Step_count           0\n",
              "Distance             1\n",
              "Average_speed        0\n",
              "Move                 0\n",
              "Walking_duration     1\n",
              "dtype: int64"
            ]
          },
          "metadata": {
            "tags": []
          },
          "execution_count": 10
        }
      ]
    },
    {
      "cell_type": "markdown",
      "metadata": {
        "id": "R49audAseTnh"
      },
      "source": [
        "## Filling missing values"
      ]
    },
    {
      "cell_type": "code",
      "metadata": {
        "id": "y6SH4ksu74uO"
      },
      "source": [
        "from sklearn.impute import SimpleImputer\n",
        "imputer = SimpleImputer(missing_values=np.nan, strategy='mean')\n",
        "imputer.fit(train_X)\n",
        "train_X = imputer.transform(train_X)\n",
        "test_X = imputer.transform(test_X)\n",
        "\n",
        "# for dependent features\n",
        "train_y = imputer.fit_transform(train_y)\n",
        "test_y = imputer.transform(test_y)"
      ],
      "execution_count": null,
      "outputs": []
    },
    {
      "cell_type": "code",
      "metadata": {
        "colab": {
          "base_uri": "https://localhost:8080/"
        },
        "id": "F241dKShBnyE",
        "outputId": "9767ab43-86f1-4ad0-92cb-8d46294273a1"
      },
      "source": [
        "print(train_X)"
      ],
      "execution_count": null,
      "outputs": [
        {
          "output_type": "stream",
          "text": [
            "[[4.40000000e+01 4.40000000e+01 1.27160000e+04 ... 1.01809424e+00\n",
            "  1.51000000e+02 8.75384100e+06]\n",
            " [5.50000000e+01 5.50000000e+01 1.05480000e+04 ... 7.89021149e-01\n",
            "  1.59000000e+02 7.28898700e+06]\n",
            " [2.00000000e+01 2.00000000e+01 1.02550000e+04 ... 7.25030889e-01\n",
            "  1.19000000e+02 6.30610200e+06]\n",
            " ...\n",
            " [9.00000000e+00 9.00000000e+00 5.25300000e+03 ... 4.82997010e-01\n",
            "  5.80000000e+01 2.48927200e+06]\n",
            " [1.30000000e+01 1.30000000e+01 6.88000000e+03 ... 4.54864551e-01\n",
            "  7.20000000e+01 3.70038200e+06]\n",
            " [1.60000000e+01 1.40000000e+01 7.10400000e+03 ... 3.88990860e-01\n",
            "  8.60000000e+01 3.23190700e+06]]\n"
          ],
          "name": "stdout"
        }
      ]
    },
    {
      "cell_type": "markdown",
      "metadata": {
        "id": "fx3ItZDBeXvW"
      },
      "source": [
        "## Scaling the values"
      ]
    },
    {
      "cell_type": "code",
      "metadata": {
        "id": "dpdkp5tZX7NM",
        "colab": {
          "base_uri": "https://localhost:8080/"
        },
        "outputId": "47c561d0-7943-4efb-c466-7878dcad3fae"
      },
      "source": [
        "from sklearn.preprocessing import StandardScaler\n",
        "scalar = StandardScaler()\n",
        "train_X = scalar.fit_transform(train_X)\n",
        "test_X = scalar.transform(test_X)\n",
        "print(scalar.mean_)"
      ],
      "execution_count": null,
      "outputs": [
        {
          "output_type": "stream",
          "text": [
            "[3.89931973e+01 3.89489796e+01 6.09643989e+03 4.81012312e+03\n",
            " 6.92132407e-01 1.01989071e+02 3.70954994e+06]\n"
          ],
          "name": "stdout"
        }
      ]
    },
    {
      "cell_type": "code",
      "metadata": {
        "colab": {
          "base_uri": "https://localhost:8080/"
        },
        "id": "TAI6DQ2JaRuF",
        "outputId": "1f1a3ec6-8210-4f8e-bea1-fb4deeee899a"
      },
      "source": [
        "np.amin(train_X)"
      ],
      "execution_count": null,
      "outputs": [
        {
          "output_type": "execute_result",
          "data": {
            "text/plain": [
              "-1.772978006380985"
            ]
          },
          "metadata": {
            "tags": []
          },
          "execution_count": 14
        }
      ]
    },
    {
      "cell_type": "markdown",
      "metadata": {
        "id": "ZwqmT5Yzd25y"
      },
      "source": [
        "## Building the ANN"
      ]
    },
    {
      "cell_type": "code",
      "metadata": {
        "id": "kntmEAX0aZrl"
      },
      "source": [
        "# Initiling ANN\n",
        "ann = tf.keras.models.Sequential()"
      ],
      "execution_count": null,
      "outputs": []
    },
    {
      "cell_type": "code",
      "metadata": {
        "id": "zw1-fn_IevcD"
      },
      "source": [
        "# Input and first hidden layer\n",
        "ann.add(tf.keras.layers.Dense(units=60, activation='relu', kernel_regularizer=tf.keras.regularizers.L1(0.001)))\n"
      ],
      "execution_count": null,
      "outputs": []
    },
    {
      "cell_type": "code",
      "metadata": {
        "id": "CKi64K4nnqyQ"
      },
      "source": [
        "# second hidden layer\n",
        "ann.add(tf.keras.layers.Dense(units=60, activation='relu', kernel_regularizer=tf.keras.regularizers.L1(0.001)))\n"
      ],
      "execution_count": null,
      "outputs": []
    },
    {
      "cell_type": "code",
      "metadata": {
        "id": "a1J_-J84fB_i"
      },
      "source": [
        "# Third hidden layer\n",
        "ann.add(tf.keras.layers.Dense(units=60, activation='relu', kernel_regularizer=tf.keras.regularizers.L1(0.001)))\n"
      ],
      "execution_count": null,
      "outputs": []
    },
    {
      "cell_type": "code",
      "metadata": {
        "id": "V7905feIn03N"
      },
      "source": [
        "# Forth hidden layer\n",
        "ann.add(tf.keras.layers.Dense(units=60, activation='relu', kernel_regularizer=tf.keras.regularizers.L1(0.001)))\n"
      ],
      "execution_count": null,
      "outputs": []
    },
    {
      "cell_type": "code",
      "metadata": {
        "id": "DVDfxFsJX6sl"
      },
      "source": [
        "# Fifth hidden layer\n",
        "ann.add(tf.keras.layers.Dense(units=60, activation='relu', kernel_regularizer=tf.keras.regularizers.L1(0.001)))\n"
      ],
      "execution_count": null,
      "outputs": []
    },
    {
      "cell_type": "code",
      "metadata": {
        "id": "T_fyL7gefO3k"
      },
      "source": [
        "# Adding output layer\n",
        "ann.add(tf.keras.layers.Dense(units=1))"
      ],
      "execution_count": null,
      "outputs": []
    },
    {
      "cell_type": "markdown",
      "metadata": {
        "id": "xNXyglr7fbSA"
      },
      "source": [
        "## Training ANN"
      ]
    },
    {
      "cell_type": "code",
      "metadata": {
        "id": "SnVmj2swfcnf"
      },
      "source": [
        "# Compile the ANN\n",
        "ann.compile(optimizer='Adamax', loss='mean_squared_error', metrics=['mae','mse','mape'])"
      ],
      "execution_count": null,
      "outputs": []
    },
    {
      "cell_type": "code",
      "metadata": {
        "colab": {
          "base_uri": "https://localhost:8080/"
        },
        "id": "Q3WXW-RpgKKG",
        "outputId": "01314849-0a79-4fff-afe5-4cc55839aaae"
      },
      "source": [
        "# Train ANN\n",
        "history = ann.fit(train_X, train_y, batch_size=1, epochs=200)"
      ],
      "execution_count": null,
      "outputs": [
        {
          "output_type": "stream",
          "text": [
            "Epoch 1/200\n",
            "366/366 [==============================] - 1s 1ms/step - loss: 3183943.2643 - mae: 1759.6287 - mse: 3183941.9693 - mape: 95.6408\n",
            "Epoch 2/200\n",
            "366/366 [==============================] - 0s 1ms/step - loss: 294262.8309 - mae: 441.6600 - mse: 294261.2456 - mape: 24.3116\n",
            "Epoch 3/200\n",
            "366/366 [==============================] - 0s 1ms/step - loss: 160529.8261 - mae: 322.7481 - mse: 160528.3675 - mape: 17.4733\n",
            "Epoch 4/200\n",
            "366/366 [==============================] - 0s 1ms/step - loss: 147018.7911 - mae: 311.2304 - mse: 147017.2827 - mape: 16.8511\n",
            "Epoch 5/200\n",
            "366/366 [==============================] - 0s 1ms/step - loss: 108430.6480 - mae: 265.8418 - mse: 108429.1346 - mape: 14.4051\n",
            "Epoch 6/200\n",
            "366/366 [==============================] - 0s 1ms/step - loss: 73270.9246 - mae: 216.6638 - mse: 73269.4023 - mape: 11.6887\n",
            "Epoch 7/200\n",
            "366/366 [==============================] - 0s 1ms/step - loss: 46859.6804 - mae: 164.1079 - mse: 46858.1483 - mape: 8.7825\n",
            "Epoch 8/200\n",
            "366/366 [==============================] - 0s 1ms/step - loss: 36585.0255 - mae: 149.7524 - mse: 36583.4911 - mape: 8.0553\n",
            "Epoch 9/200\n",
            "366/366 [==============================] - 0s 1ms/step - loss: 30889.7663 - mae: 134.5910 - mse: 30888.2364 - mape: 7.2061\n",
            "Epoch 10/200\n",
            "366/366 [==============================] - 0s 1ms/step - loss: 22382.7018 - mae: 106.0582 - mse: 22381.1794 - mape: 5.7205\n",
            "Epoch 11/200\n",
            "366/366 [==============================] - 0s 1ms/step - loss: 17087.2043 - mae: 95.0167 - mse: 17085.6872 - mape: 5.1729\n",
            "Epoch 12/200\n",
            "366/366 [==============================] - 0s 1ms/step - loss: 15642.3390 - mae: 91.1533 - mse: 15640.8229 - mape: 4.8306\n",
            "Epoch 13/200\n",
            "366/366 [==============================] - 0s 1ms/step - loss: 11126.6492 - mae: 71.9737 - mse: 11125.1359 - mape: 3.8391\n",
            "Epoch 14/200\n",
            "366/366 [==============================] - 0s 1ms/step - loss: 9151.2901 - mae: 63.9047 - mse: 9149.7809 - mape: 3.4199\n",
            "Epoch 15/200\n",
            "366/366 [==============================] - 1s 1ms/step - loss: 7553.6140 - mae: 59.5563 - mse: 7552.1124 - mape: 3.1620\n",
            "Epoch 16/200\n",
            "366/366 [==============================] - 0s 1ms/step - loss: 6903.6316 - mae: 54.1605 - mse: 6902.1372 - mape: 2.9033\n",
            "Epoch 17/200\n",
            "366/366 [==============================] - 0s 1ms/step - loss: 4783.2929 - mae: 42.0615 - mse: 4781.8078 - mape: 2.2831\n",
            "Epoch 18/200\n",
            "366/366 [==============================] - 0s 1ms/step - loss: 5824.2301 - mae: 46.3945 - mse: 5822.7526 - mape: 2.5358\n",
            "Epoch 19/200\n",
            "366/366 [==============================] - 0s 1ms/step - loss: 4063.4745 - mae: 41.3769 - mse: 4062.0082 - mape: 2.2327\n",
            "Epoch 20/200\n",
            "366/366 [==============================] - 0s 1ms/step - loss: 3211.8766 - mae: 36.0693 - mse: 3210.4234 - mape: 1.9220\n",
            "Epoch 21/200\n",
            "366/366 [==============================] - 0s 1ms/step - loss: 3563.0131 - mae: 36.3621 - mse: 3561.5718 - mape: 1.9965\n",
            "Epoch 22/200\n",
            "366/366 [==============================] - 0s 1ms/step - loss: 5114.3407 - mae: 40.6335 - mse: 5112.9131 - mape: 2.2579\n",
            "Epoch 23/200\n",
            "366/366 [==============================] - 0s 1ms/step - loss: 2097.4985 - mae: 30.4563 - mse: 2096.0852 - mape: 1.6407\n",
            "Epoch 24/200\n",
            "366/366 [==============================] - 0s 1ms/step - loss: 2657.8572 - mae: 30.0144 - mse: 2656.4588 - mape: 1.6435\n",
            "Epoch 25/200\n",
            "366/366 [==============================] - 0s 1ms/step - loss: 3156.2450 - mae: 33.6118 - mse: 3154.8601 - mape: 1.8279\n",
            "Epoch 26/200\n",
            "366/366 [==============================] - 0s 1ms/step - loss: 2127.1381 - mae: 27.7079 - mse: 2125.7664 - mape: 1.5171\n",
            "Epoch 27/200\n",
            "366/366 [==============================] - 0s 1ms/step - loss: 1617.8734 - mae: 26.8636 - mse: 1616.5142 - mape: 1.4767\n",
            "Epoch 28/200\n",
            "366/366 [==============================] - 0s 1ms/step - loss: 2069.0120 - mae: 27.2787 - mse: 2067.6603 - mape: 1.4949\n",
            "Epoch 29/200\n",
            "366/366 [==============================] - 0s 1ms/step - loss: 1200.1725 - mae: 22.6577 - mse: 1198.8276 - mape: 1.2510\n",
            "Epoch 30/200\n",
            "366/366 [==============================] - 0s 1ms/step - loss: 1597.1530 - mae: 27.3238 - mse: 1595.8131 - mape: 1.4799\n",
            "Epoch 31/200\n",
            "366/366 [==============================] - 0s 1ms/step - loss: 1622.9645 - mae: 26.0064 - mse: 1621.6282 - mape: 1.4580\n",
            "Epoch 32/200\n",
            "366/366 [==============================] - 0s 1ms/step - loss: 1400.6167 - mae: 26.2325 - mse: 1399.2830 - mape: 1.4509\n",
            "Epoch 33/200\n",
            "366/366 [==============================] - 0s 1ms/step - loss: 1304.0854 - mae: 24.7712 - mse: 1302.7546 - mape: 1.3639\n",
            "Epoch 34/200\n",
            "366/366 [==============================] - 0s 1ms/step - loss: 1157.8413 - mae: 24.0446 - mse: 1156.5128 - mape: 1.3193\n",
            "Epoch 35/200\n",
            "366/366 [==============================] - 0s 1ms/step - loss: 1214.7865 - mae: 22.8014 - mse: 1213.4602 - mape: 1.2387\n",
            "Epoch 36/200\n",
            "366/366 [==============================] - 0s 1ms/step - loss: 1623.1847 - mae: 24.0861 - mse: 1621.8604 - mape: 1.3406\n",
            "Epoch 37/200\n",
            "366/366 [==============================] - 0s 1ms/step - loss: 938.1186 - mae: 22.8180 - mse: 936.7957 - mape: 1.2520\n",
            "Epoch 38/200\n",
            "366/366 [==============================] - 0s 1ms/step - loss: 1233.0177 - mae: 24.2806 - mse: 1231.6962 - mape: 1.3525\n",
            "Epoch 39/200\n",
            "366/366 [==============================] - 0s 1ms/step - loss: 1041.2607 - mae: 21.4697 - mse: 1039.9419 - mape: 1.1736\n",
            "Epoch 40/200\n",
            "366/366 [==============================] - 0s 1ms/step - loss: 1101.5484 - mae: 20.6141 - mse: 1100.2325 - mape: 1.1413\n",
            "Epoch 41/200\n",
            "366/366 [==============================] - 0s 1ms/step - loss: 1200.3336 - mae: 23.5355 - mse: 1199.0206 - mape: 1.2961\n",
            "Epoch 42/200\n",
            "366/366 [==============================] - 0s 1ms/step - loss: 1370.7316 - mae: 22.1080 - mse: 1369.4230 - mape: 1.2140\n",
            "Epoch 43/200\n",
            "366/366 [==============================] - 0s 1ms/step - loss: 1025.1859 - mae: 21.8611 - mse: 1023.8814 - mape: 1.2044\n",
            "Epoch 44/200\n",
            "366/366 [==============================] - 0s 1ms/step - loss: 1081.0456 - mae: 22.0185 - mse: 1079.7432 - mape: 1.2083\n",
            "Epoch 45/200\n",
            "366/366 [==============================] - 0s 1ms/step - loss: 849.0867 - mae: 19.5578 - mse: 847.7861 - mape: 1.0696\n",
            "Epoch 46/200\n",
            "366/366 [==============================] - 0s 1ms/step - loss: 1098.9136 - mae: 22.5267 - mse: 1097.6143 - mape: 1.2285\n",
            "Epoch 47/200\n",
            "366/366 [==============================] - 0s 1ms/step - loss: 1905.6235 - mae: 28.7190 - mse: 1904.3261 - mape: 1.6019\n",
            "Epoch 48/200\n",
            "366/366 [==============================] - 0s 1ms/step - loss: 856.9119 - mae: 19.8551 - mse: 855.6155 - mape: 1.0814\n",
            "Epoch 49/200\n",
            "366/366 [==============================] - 0s 1ms/step - loss: 1207.9232 - mae: 21.5804 - mse: 1206.6281 - mape: 1.1981\n",
            "Epoch 50/200\n",
            "366/366 [==============================] - 0s 1ms/step - loss: 1396.5322 - mae: 24.6327 - mse: 1395.2387 - mape: 1.3794\n",
            "Epoch 51/200\n",
            "366/366 [==============================] - 0s 1ms/step - loss: 905.0893 - mae: 20.4536 - mse: 903.7958 - mape: 1.1297\n",
            "Epoch 52/200\n",
            "366/366 [==============================] - 0s 1ms/step - loss: 691.2047 - mae: 19.1486 - mse: 689.9122 - mape: 1.0572\n",
            "Epoch 53/200\n",
            "366/366 [==============================] - 0s 1ms/step - loss: 1175.3410 - mae: 22.3157 - mse: 1174.0485 - mape: 1.2403\n",
            "Epoch 54/200\n",
            "366/366 [==============================] - 0s 1ms/step - loss: 558.7279 - mae: 16.7997 - mse: 557.4353 - mape: 0.9219\n",
            "Epoch 55/200\n",
            "366/366 [==============================] - 0s 1ms/step - loss: 1350.9275 - mae: 23.1734 - mse: 1349.6343 - mape: 1.2906\n",
            "Epoch 56/200\n",
            "366/366 [==============================] - 0s 1ms/step - loss: 886.3976 - mae: 20.0203 - mse: 885.1053 - mape: 1.1209\n",
            "Epoch 57/200\n",
            "366/366 [==============================] - 0s 1ms/step - loss: 902.4553 - mae: 19.9191 - mse: 901.1627 - mape: 1.0875\n",
            "Epoch 58/200\n",
            "366/366 [==============================] - 0s 1ms/step - loss: 713.9223 - mae: 18.6117 - mse: 712.6298 - mape: 1.0387\n",
            "Epoch 59/200\n",
            "366/366 [==============================] - 0s 1ms/step - loss: 1111.4756 - mae: 21.7250 - mse: 1110.1826 - mape: 1.1829\n",
            "Epoch 60/200\n",
            "366/366 [==============================] - 0s 1ms/step - loss: 848.3541 - mae: 20.0729 - mse: 847.0617 - mape: 1.0955\n",
            "Epoch 61/200\n",
            "366/366 [==============================] - 0s 1ms/step - loss: 1272.4249 - mae: 22.4889 - mse: 1271.1319 - mape: 1.2244\n",
            "Epoch 62/200\n",
            "366/366 [==============================] - 0s 1ms/step - loss: 576.0629 - mae: 16.6831 - mse: 574.7704 - mape: 0.9217\n",
            "Epoch 63/200\n",
            "366/366 [==============================] - 0s 1ms/step - loss: 828.8292 - mae: 17.8511 - mse: 827.5369 - mape: 0.9789\n",
            "Epoch 64/200\n",
            "366/366 [==============================] - 0s 1ms/step - loss: 983.7871 - mae: 17.4731 - mse: 982.4945 - mape: 0.9654\n",
            "Epoch 65/200\n",
            "366/366 [==============================] - 0s 1ms/step - loss: 896.1847 - mae: 19.6629 - mse: 894.8925 - mape: 1.0623\n",
            "Epoch 66/200\n",
            "366/366 [==============================] - 0s 1ms/step - loss: 604.3511 - mae: 15.7608 - mse: 603.0591 - mape: 0.8671\n",
            "Epoch 67/200\n",
            "366/366 [==============================] - 0s 1ms/step - loss: 904.9718 - mae: 19.7922 - mse: 903.6794 - mape: 1.0834\n",
            "Epoch 68/200\n",
            "366/366 [==============================] - 1s 1ms/step - loss: 589.8239 - mae: 17.0412 - mse: 588.5321 - mape: 0.9272\n",
            "Epoch 69/200\n",
            "366/366 [==============================] - 0s 1ms/step - loss: 765.5784 - mae: 18.9646 - mse: 764.2865 - mape: 1.0367\n",
            "Epoch 70/200\n",
            "366/366 [==============================] - 0s 1ms/step - loss: 1243.1336 - mae: 23.0903 - mse: 1241.8417 - mape: 1.2840\n",
            "Epoch 71/200\n",
            "366/366 [==============================] - 0s 1ms/step - loss: 460.2815 - mae: 15.7844 - mse: 458.9897 - mape: 0.8617\n",
            "Epoch 72/200\n",
            "366/366 [==============================] - 0s 1ms/step - loss: 1183.0873 - mae: 20.9375 - mse: 1181.7948 - mape: 1.1394\n",
            "Epoch 73/200\n",
            "366/366 [==============================] - 0s 1ms/step - loss: 658.2056 - mae: 18.1351 - mse: 656.9136 - mape: 1.0014\n",
            "Epoch 74/200\n",
            "366/366 [==============================] - 0s 1ms/step - loss: 654.7395 - mae: 17.5530 - mse: 653.4477 - mape: 0.9712\n",
            "Epoch 75/200\n",
            "366/366 [==============================] - 0s 1ms/step - loss: 760.5855 - mae: 18.4171 - mse: 759.2939 - mape: 1.0056\n",
            "Epoch 76/200\n",
            "366/366 [==============================] - 0s 1ms/step - loss: 633.6930 - mae: 18.4456 - mse: 632.4018 - mape: 1.0148\n",
            "Epoch 77/200\n",
            "366/366 [==============================] - 1s 1ms/step - loss: 1044.8089 - mae: 18.6703 - mse: 1043.5185 - mape: 1.0462\n",
            "Epoch 78/200\n",
            "366/366 [==============================] - 1s 1ms/step - loss: 559.2926 - mae: 16.7325 - mse: 558.0024 - mape: 0.9210\n",
            "Epoch 79/200\n",
            "366/366 [==============================] - 0s 1ms/step - loss: 764.7830 - mae: 18.6828 - mse: 763.4929 - mape: 1.0351\n",
            "Epoch 80/200\n",
            "366/366 [==============================] - 0s 1ms/step - loss: 945.6389 - mae: 19.0388 - mse: 944.3476 - mape: 1.0329\n",
            "Epoch 81/200\n",
            "366/366 [==============================] - 0s 1ms/step - loss: 562.6661 - mae: 16.2568 - mse: 561.3757 - mape: 0.9110\n",
            "Epoch 82/200\n",
            "366/366 [==============================] - 0s 1ms/step - loss: 1133.4529 - mae: 20.6122 - mse: 1132.1620 - mape: 1.1289\n",
            "Epoch 83/200\n",
            "366/366 [==============================] - 0s 1ms/step - loss: 626.9795 - mae: 17.8074 - mse: 625.6889 - mape: 0.9723\n",
            "Epoch 84/200\n",
            "366/366 [==============================] - 1s 1ms/step - loss: 1075.3307 - mae: 20.9300 - mse: 1074.0402 - mape: 1.1629\n",
            "Epoch 85/200\n",
            "366/366 [==============================] - 0s 1ms/step - loss: 705.0565 - mae: 17.0079 - mse: 703.7665 - mape: 0.9369\n",
            "Epoch 86/200\n",
            "366/366 [==============================] - 0s 1ms/step - loss: 1074.1859 - mae: 20.2940 - mse: 1072.8961 - mape: 1.0874\n",
            "Epoch 87/200\n",
            "366/366 [==============================] - 0s 1ms/step - loss: 939.5003 - mae: 19.0504 - mse: 938.2112 - mape: 1.0496\n",
            "Epoch 88/200\n",
            "366/366 [==============================] - 0s 1ms/step - loss: 617.8663 - mae: 17.6548 - mse: 616.5769 - mape: 0.9735\n",
            "Epoch 89/200\n",
            "366/366 [==============================] - 0s 1ms/step - loss: 621.9572 - mae: 16.9627 - mse: 620.6679 - mape: 0.9533\n",
            "Epoch 90/200\n",
            "366/366 [==============================] - 0s 1ms/step - loss: 437.2464 - mae: 15.3210 - mse: 435.9566 - mape: 0.8571\n",
            "Epoch 91/200\n",
            "366/366 [==============================] - 0s 1ms/step - loss: 842.0041 - mae: 18.2669 - mse: 840.7144 - mape: 0.9951\n",
            "Epoch 92/200\n",
            "366/366 [==============================] - 0s 1ms/step - loss: 777.4494 - mae: 18.0619 - mse: 776.1590 - mape: 0.9928\n",
            "Epoch 93/200\n",
            "366/366 [==============================] - 1s 1ms/step - loss: 630.0015 - mae: 16.7832 - mse: 628.7111 - mape: 0.9191\n",
            "Epoch 94/200\n",
            "366/366 [==============================] - 1s 2ms/step - loss: 991.6395 - mae: 18.3740 - mse: 990.3487 - mape: 0.9983\n",
            "Epoch 95/200\n",
            "366/366 [==============================] - 0s 1ms/step - loss: 609.6368 - mae: 17.2140 - mse: 608.3461 - mape: 0.9394\n",
            "Epoch 96/200\n",
            "366/366 [==============================] - 1s 1ms/step - loss: 830.4314 - mae: 19.8886 - mse: 829.1413 - mape: 1.0941\n",
            "Epoch 97/200\n",
            "366/366 [==============================] - 1s 1ms/step - loss: 693.3649 - mae: 17.3713 - mse: 692.0739 - mape: 0.9364\n",
            "Epoch 98/200\n",
            "366/366 [==============================] - 0s 1ms/step - loss: 573.2602 - mae: 15.6058 - mse: 571.9696 - mape: 0.8665\n",
            "Epoch 99/200\n",
            "366/366 [==============================] - 0s 1ms/step - loss: 775.6094 - mae: 19.0190 - mse: 774.3187 - mape: 1.0506\n",
            "Epoch 100/200\n",
            "366/366 [==============================] - 0s 1ms/step - loss: 535.4832 - mae: 15.1844 - mse: 534.1923 - mape: 0.8329\n",
            "Epoch 101/200\n",
            "366/366 [==============================] - 1s 1ms/step - loss: 556.5618 - mae: 16.9799 - mse: 555.2704 - mape: 0.9211\n",
            "Epoch 102/200\n",
            "366/366 [==============================] - 1s 2ms/step - loss: 908.0974 - mae: 17.8155 - mse: 906.8054 - mape: 0.9801\n",
            "Epoch 103/200\n",
            "366/366 [==============================] - 1s 1ms/step - loss: 639.0145 - mae: 18.1963 - mse: 637.7222 - mape: 1.0000\n",
            "Epoch 104/200\n",
            "366/366 [==============================] - 1s 1ms/step - loss: 723.0807 - mae: 16.6660 - mse: 721.7886 - mape: 0.9101\n",
            "Epoch 105/200\n",
            "366/366 [==============================] - 0s 1ms/step - loss: 577.5272 - mae: 15.6245 - mse: 576.2356 - mape: 0.8627\n",
            "Epoch 106/200\n",
            "366/366 [==============================] - 1s 1ms/step - loss: 785.2688 - mae: 17.7760 - mse: 783.9764 - mape: 0.9634\n",
            "Epoch 107/200\n",
            "366/366 [==============================] - 0s 1ms/step - loss: 560.7289 - mae: 15.9188 - mse: 559.4364 - mape: 0.8702\n",
            "Epoch 108/200\n",
            "366/366 [==============================] - 0s 1ms/step - loss: 479.6328 - mae: 14.6161 - mse: 478.3402 - mape: 0.7959\n",
            "Epoch 109/200\n",
            "366/366 [==============================] - 1s 1ms/step - loss: 751.3429 - mae: 17.4276 - mse: 750.0501 - mape: 0.9573\n",
            "Epoch 110/200\n",
            "366/366 [==============================] - 0s 1ms/step - loss: 567.6233 - mae: 16.0974 - mse: 566.3309 - mape: 0.8775\n",
            "Epoch 111/200\n",
            "366/366 [==============================] - 0s 1ms/step - loss: 645.6344 - mae: 18.0474 - mse: 644.3417 - mape: 0.9814\n",
            "Epoch 112/200\n",
            "366/366 [==============================] - 1s 1ms/step - loss: 678.8259 - mae: 16.9275 - mse: 677.5333 - mape: 0.9283\n",
            "Epoch 113/200\n",
            "366/366 [==============================] - 0s 1ms/step - loss: 1062.7187 - mae: 19.5273 - mse: 1061.4257 - mape: 1.0761\n",
            "Epoch 114/200\n",
            "366/366 [==============================] - 1s 2ms/step - loss: 935.0485 - mae: 19.4872 - mse: 933.7554 - mape: 1.0573\n",
            "Epoch 115/200\n",
            "366/366 [==============================] - 1s 2ms/step - loss: 1104.1610 - mae: 20.9277 - mse: 1102.8678 - mape: 1.1428\n",
            "Epoch 116/200\n",
            "366/366 [==============================] - 1s 2ms/step - loss: 381.9167 - mae: 13.3465 - mse: 380.6232 - mape: 0.7293\n",
            "Epoch 117/200\n",
            "366/366 [==============================] - 0s 1ms/step - loss: 390.1177 - mae: 14.1565 - mse: 388.8239 - mape: 0.7723\n",
            "Epoch 118/200\n",
            "366/366 [==============================] - 1s 1ms/step - loss: 468.4149 - mae: 14.9313 - mse: 467.1208 - mape: 0.8087\n",
            "Epoch 119/200\n",
            "366/366 [==============================] - 1s 2ms/step - loss: 479.9393 - mae: 15.7775 - mse: 478.6449 - mape: 0.8620\n",
            "Epoch 120/200\n",
            "366/366 [==============================] - 1s 1ms/step - loss: 723.1429 - mae: 18.6181 - mse: 721.8482 - mape: 1.0222\n",
            "Epoch 121/200\n",
            "366/366 [==============================] - 0s 1ms/step - loss: 803.3245 - mae: 18.6315 - mse: 802.0297 - mape: 1.0071\n",
            "Epoch 122/200\n",
            "366/366 [==============================] - 1s 1ms/step - loss: 439.3265 - mae: 15.3027 - mse: 438.0315 - mape: 0.8377\n",
            "Epoch 123/200\n",
            "366/366 [==============================] - 0s 1ms/step - loss: 611.8315 - mae: 15.4566 - mse: 610.5363 - mape: 0.8492\n",
            "Epoch 124/200\n",
            "366/366 [==============================] - 1s 1ms/step - loss: 483.6656 - mae: 15.3665 - mse: 482.3705 - mape: 0.8393\n",
            "Epoch 125/200\n",
            "366/366 [==============================] - 0s 1ms/step - loss: 634.9794 - mae: 16.6270 - mse: 633.6843 - mape: 0.9074\n",
            "Epoch 126/200\n",
            "366/366 [==============================] - 1s 1ms/step - loss: 606.6615 - mae: 16.5245 - mse: 605.3659 - mape: 0.8915\n",
            "Epoch 127/200\n",
            "366/366 [==============================] - 1s 1ms/step - loss: 499.1320 - mae: 15.3834 - mse: 497.8360 - mape: 0.8358\n",
            "Epoch 128/200\n",
            "366/366 [==============================] - 1s 2ms/step - loss: 635.8988 - mae: 16.2023 - mse: 634.6031 - mape: 0.9006\n",
            "Epoch 129/200\n",
            "366/366 [==============================] - 1s 2ms/step - loss: 737.4106 - mae: 18.5935 - mse: 736.1143 - mape: 1.0198\n",
            "Epoch 130/200\n",
            "366/366 [==============================] - 0s 1ms/step - loss: 564.2230 - mae: 17.0818 - mse: 562.9262 - mape: 0.9307\n",
            "Epoch 131/200\n",
            "366/366 [==============================] - 0s 1ms/step - loss: 1031.1772 - mae: 19.0254 - mse: 1029.8803 - mape: 1.0371\n",
            "Epoch 132/200\n",
            "366/366 [==============================] - 1s 1ms/step - loss: 1087.1741 - mae: 19.9161 - mse: 1085.8771 - mape: 1.0826\n",
            "Epoch 133/200\n",
            "366/366 [==============================] - 1s 1ms/step - loss: 650.2292 - mae: 16.5128 - mse: 648.9319 - mape: 0.9064\n",
            "Epoch 134/200\n",
            "366/366 [==============================] - 1s 1ms/step - loss: 495.1222 - mae: 15.5655 - mse: 493.8244 - mape: 0.8508\n",
            "Epoch 135/200\n",
            "366/366 [==============================] - 0s 1ms/step - loss: 927.5530 - mae: 19.5710 - mse: 926.2545 - mape: 1.0583\n",
            "Epoch 136/200\n",
            "366/366 [==============================] - 1s 1ms/step - loss: 665.1424 - mae: 17.2637 - mse: 663.8433 - mape: 0.9422\n",
            "Epoch 137/200\n",
            "366/366 [==============================] - 1s 1ms/step - loss: 560.9273 - mae: 15.2376 - mse: 559.6284 - mape: 0.8260\n",
            "Epoch 138/200\n",
            "366/366 [==============================] - 1s 1ms/step - loss: 1180.4670 - mae: 18.7525 - mse: 1179.1685 - mape: 1.0136\n",
            "Epoch 139/200\n",
            "366/366 [==============================] - 1s 2ms/step - loss: 583.2944 - mae: 16.3720 - mse: 581.9954 - mape: 0.9002\n",
            "Epoch 140/200\n",
            "366/366 [==============================] - 0s 1ms/step - loss: 581.8101 - mae: 15.9704 - mse: 580.5110 - mape: 0.8843\n",
            "Epoch 141/200\n",
            "366/366 [==============================] - 1s 1ms/step - loss: 533.1083 - mae: 15.7949 - mse: 531.8089 - mape: 0.8683\n",
            "Epoch 142/200\n",
            "366/366 [==============================] - 0s 1ms/step - loss: 437.9594 - mae: 14.5263 - mse: 436.6592 - mape: 0.7928\n",
            "Epoch 143/200\n",
            "366/366 [==============================] - 0s 1ms/step - loss: 556.2701 - mae: 15.0881 - mse: 554.9696 - mape: 0.8218\n",
            "Epoch 144/200\n",
            "366/366 [==============================] - 0s 1ms/step - loss: 555.8674 - mae: 14.8251 - mse: 554.5666 - mape: 0.7981\n",
            "Epoch 145/200\n",
            "366/366 [==============================] - 0s 1ms/step - loss: 445.9969 - mae: 13.9416 - mse: 444.6959 - mape: 0.7686\n",
            "Epoch 146/200\n",
            "366/366 [==============================] - 1s 1ms/step - loss: 911.7981 - mae: 19.0218 - mse: 910.4963 - mape: 1.0312\n",
            "Epoch 147/200\n",
            "366/366 [==============================] - 1s 1ms/step - loss: 855.2614 - mae: 16.7081 - mse: 853.9598 - mape: 0.9001\n",
            "Epoch 148/200\n",
            "366/366 [==============================] - 0s 1ms/step - loss: 723.4703 - mae: 16.2506 - mse: 722.1684 - mape: 0.8922\n",
            "Epoch 149/200\n",
            "366/366 [==============================] - 0s 1ms/step - loss: 500.3218 - mae: 14.7059 - mse: 499.0198 - mape: 0.8010\n",
            "Epoch 150/200\n",
            "366/366 [==============================] - 1s 1ms/step - loss: 793.3934 - mae: 18.7183 - mse: 792.0917 - mape: 1.0215\n",
            "Epoch 151/200\n",
            "366/366 [==============================] - 1s 2ms/step - loss: 420.6927 - mae: 14.7061 - mse: 419.3904 - mape: 0.8005\n",
            "Epoch 152/200\n",
            "366/366 [==============================] - 1s 2ms/step - loss: 735.7319 - mae: 15.4229 - mse: 734.4279 - mape: 0.8487\n",
            "Epoch 153/200\n",
            "366/366 [==============================] - 1s 2ms/step - loss: 533.9242 - mae: 14.7845 - mse: 532.6198 - mape: 0.8091\n",
            "Epoch 154/200\n",
            "366/366 [==============================] - 1s 2ms/step - loss: 454.9267 - mae: 14.8548 - mse: 453.6220 - mape: 0.8147\n",
            "Epoch 155/200\n",
            "366/366 [==============================] - 1s 1ms/step - loss: 449.9999 - mae: 15.6617 - mse: 448.6953 - mape: 0.8565\n",
            "Epoch 156/200\n",
            "366/366 [==============================] - 1s 1ms/step - loss: 398.0778 - mae: 13.6318 - mse: 396.7725 - mape: 0.7517\n",
            "Epoch 157/200\n",
            "366/366 [==============================] - 0s 1ms/step - loss: 456.4744 - mae: 15.3209 - mse: 455.1695 - mape: 0.8418\n",
            "Epoch 158/200\n",
            "366/366 [==============================] - 0s 1ms/step - loss: 467.5888 - mae: 14.5616 - mse: 466.2833 - mape: 0.7895\n",
            "Epoch 159/200\n",
            "366/366 [==============================] - 0s 1ms/step - loss: 409.7505 - mae: 13.1935 - mse: 408.4448 - mape: 0.7234\n",
            "Epoch 160/200\n",
            "366/366 [==============================] - 1s 2ms/step - loss: 623.0040 - mae: 16.3965 - mse: 621.6981 - mape: 0.8875\n",
            "Epoch 161/200\n",
            "366/366 [==============================] - 1s 2ms/step - loss: 848.1915 - mae: 17.9516 - mse: 846.8853 - mape: 0.9741\n",
            "Epoch 162/200\n",
            "366/366 [==============================] - 0s 1ms/step - loss: 442.3451 - mae: 15.7637 - mse: 441.0389 - mape: 0.8570\n",
            "Epoch 163/200\n",
            "366/366 [==============================] - 1s 1ms/step - loss: 509.1800 - mae: 16.5139 - mse: 507.8742 - mape: 0.8906\n",
            "Epoch 164/200\n",
            "366/366 [==============================] - 0s 1ms/step - loss: 585.6296 - mae: 16.0719 - mse: 584.3237 - mape: 0.8905\n",
            "Epoch 165/200\n",
            "366/366 [==============================] - 1s 1ms/step - loss: 519.4912 - mae: 14.8039 - mse: 518.1843 - mape: 0.8059\n",
            "Epoch 166/200\n",
            "366/366 [==============================] - 0s 1ms/step - loss: 481.3060 - mae: 15.0528 - mse: 479.9989 - mape: 0.8233\n",
            "Epoch 167/200\n",
            "366/366 [==============================] - 1s 1ms/step - loss: 567.2750 - mae: 16.1021 - mse: 565.9677 - mape: 0.8868\n",
            "Epoch 168/200\n",
            "366/366 [==============================] - 0s 1ms/step - loss: 461.5457 - mae: 14.0251 - mse: 460.2380 - mape: 0.7721\n",
            "Epoch 169/200\n",
            "366/366 [==============================] - 1s 1ms/step - loss: 499.2575 - mae: 13.7944 - mse: 497.9493 - mape: 0.7566\n",
            "Epoch 170/200\n",
            "366/366 [==============================] - 1s 1ms/step - loss: 523.7646 - mae: 14.2668 - mse: 522.4561 - mape: 0.7855\n",
            "Epoch 171/200\n",
            "366/366 [==============================] - 1s 1ms/step - loss: 415.7143 - mae: 15.0860 - mse: 414.4056 - mape: 0.8183\n",
            "Epoch 172/200\n",
            "366/366 [==============================] - 0s 1ms/step - loss: 463.8140 - mae: 14.8073 - mse: 462.5052 - mape: 0.8185\n",
            "Epoch 173/200\n",
            "366/366 [==============================] - 0s 1ms/step - loss: 408.2759 - mae: 13.2125 - mse: 406.9670 - mape: 0.7252\n",
            "Epoch 174/200\n",
            "366/366 [==============================] - 0s 1ms/step - loss: 681.1669 - mae: 17.0723 - mse: 679.8583 - mape: 0.9307\n",
            "Epoch 175/200\n",
            "366/366 [==============================] - 0s 1ms/step - loss: 414.0922 - mae: 13.9509 - mse: 412.7828 - mape: 0.7626\n",
            "Epoch 176/200\n",
            "366/366 [==============================] - 0s 1ms/step - loss: 668.5476 - mae: 14.7430 - mse: 667.2375 - mape: 0.8077\n",
            "Epoch 177/200\n",
            "366/366 [==============================] - 0s 1ms/step - loss: 550.2039 - mae: 15.9018 - mse: 548.8939 - mape: 0.8748\n",
            "Epoch 178/200\n",
            "366/366 [==============================] - 0s 1ms/step - loss: 447.3305 - mae: 15.4519 - mse: 446.0205 - mape: 0.8482\n",
            "Epoch 179/200\n",
            "366/366 [==============================] - 1s 1ms/step - loss: 592.2008 - mae: 15.9065 - mse: 590.8909 - mape: 0.8686\n",
            "Epoch 180/200\n",
            "366/366 [==============================] - 0s 1ms/step - loss: 454.0973 - mae: 13.8011 - mse: 452.7867 - mape: 0.7517\n",
            "Epoch 181/200\n",
            "366/366 [==============================] - 1s 1ms/step - loss: 540.5509 - mae: 13.2619 - mse: 539.2404 - mape: 0.7192\n",
            "Epoch 182/200\n",
            "366/366 [==============================] - 1s 1ms/step - loss: 675.2876 - mae: 15.4633 - mse: 673.9765 - mape: 0.8390\n",
            "Epoch 183/200\n",
            "366/366 [==============================] - 1s 1ms/step - loss: 471.4994 - mae: 14.7723 - mse: 470.1890 - mape: 0.8052\n",
            "Epoch 184/200\n",
            "366/366 [==============================] - 1s 2ms/step - loss: 937.1119 - mae: 18.0076 - mse: 935.8008 - mape: 0.9677\n",
            "Epoch 185/200\n",
            "366/366 [==============================] - 1s 2ms/step - loss: 620.9530 - mae: 15.7742 - mse: 619.6415 - mape: 0.8710\n",
            "Epoch 186/200\n",
            "366/366 [==============================] - 0s 1ms/step - loss: 522.0501 - mae: 15.8867 - mse: 520.7383 - mape: 0.8604\n",
            "Epoch 187/200\n",
            "366/366 [==============================] - 0s 1ms/step - loss: 675.0813 - mae: 18.1228 - mse: 673.7695 - mape: 0.9987\n",
            "Epoch 188/200\n",
            "366/366 [==============================] - 0s 1ms/step - loss: 687.8949 - mae: 14.7107 - mse: 686.5833 - mape: 0.8003\n",
            "Epoch 189/200\n",
            "366/366 [==============================] - 0s 1ms/step - loss: 909.2488 - mae: 18.4559 - mse: 907.9368 - mape: 0.9929\n",
            "Epoch 190/200\n",
            "366/366 [==============================] - 0s 1ms/step - loss: 558.4451 - mae: 14.1080 - mse: 557.1331 - mape: 0.7704\n",
            "Epoch 191/200\n",
            "366/366 [==============================] - 0s 1ms/step - loss: 592.4248 - mae: 14.7435 - mse: 591.1129 - mape: 0.8038\n",
            "Epoch 192/200\n",
            "366/366 [==============================] - 0s 1ms/step - loss: 565.4375 - mae: 16.4870 - mse: 564.1260 - mape: 0.8931\n",
            "Epoch 193/200\n",
            "366/366 [==============================] - 0s 1ms/step - loss: 458.1520 - mae: 13.6959 - mse: 456.8401 - mape: 0.7432\n",
            "Epoch 194/200\n",
            "366/366 [==============================] - 1s 1ms/step - loss: 1244.5040 - mae: 19.3465 - mse: 1243.1922 - mape: 1.0339\n",
            "Epoch 195/200\n",
            "366/366 [==============================] - 0s 1ms/step - loss: 449.2610 - mae: 14.0229 - mse: 447.9490 - mape: 0.7731\n",
            "Epoch 196/200\n",
            "366/366 [==============================] - 0s 1ms/step - loss: 531.4643 - mae: 15.3248 - mse: 530.1521 - mape: 0.8375\n",
            "Epoch 197/200\n",
            "366/366 [==============================] - 0s 1ms/step - loss: 609.2068 - mae: 17.2873 - mse: 607.8947 - mape: 0.9399\n",
            "Epoch 198/200\n",
            "366/366 [==============================] - 1s 1ms/step - loss: 306.3588 - mae: 12.8060 - mse: 305.0463 - mape: 0.7036\n",
            "Epoch 199/200\n",
            "366/366 [==============================] - 0s 1ms/step - loss: 394.1413 - mae: 13.5943 - mse: 392.8286 - mape: 0.7517\n",
            "Epoch 200/200\n",
            "366/366 [==============================] - 1s 1ms/step - loss: 457.7664 - mae: 14.7097 - mse: 456.4530 - mape: 0.7958\n"
          ],
          "name": "stdout"
        }
      ]
    },
    {
      "cell_type": "code",
      "metadata": {
        "id": "o6L_pNSakla_",
        "colab": {
          "base_uri": "https://localhost:8080/"
        },
        "outputId": "e1e16268-68d5-46e1-9060-9e3c43d004fa"
      },
      "source": [
        "test_loss = ann.evaluate(test_X, test_y)"
      ],
      "execution_count": null,
      "outputs": [
        {
          "output_type": "stream",
          "text": [
            "4/4 [==============================] - 0s 3ms/step - loss: 147664.4688 - mae: 268.0793 - mse: 147663.1562 - mape: 50.9557\n"
          ],
          "name": "stdout"
        }
      ]
    },
    {
      "cell_type": "code",
      "metadata": {
        "colab": {
          "base_uri": "https://localhost:8080/",
          "height": 281
        },
        "id": "ClhpDUneus-4",
        "outputId": "e222654b-e420-4668-fe0d-48649bb73559"
      },
      "source": [
        "y_pred = ann.predict(test_X)\n",
        "\n",
        "plt.plot(test_y, color = 'red', label = 'Real data')\n",
        "plt.plot(y_pred, color = 'blue', label = 'Predicted data')\n",
        "plt.title('Prediction')\n",
        "plt.legend()\n",
        "plt.show()"
      ],
      "execution_count": null,
      "outputs": [
        {
          "output_type": "display_data",
          "data": {
            "image/png": "[encoded data removed]",
            "text/plain": [
              "<Figure size 432x288 with 1 Axes>"
            ]
          },
          "metadata": {
            "tags": [],
            "needs_background": "light"
          }
        }
      ]
    },
    {
      "cell_type": "code",
      "metadata": {
        "colab": {
          "base_uri": "https://localhost:8080/",
          "height": 293
        },
        "id": "NbJ8mU6ls6f4",
        "outputId": "7da36933-44d9-4b01-90c1-1748ce3defbc"
      },
      "source": [
        "plt.plot(history.history['loss'])"
      ],
      "execution_count": null,
      "outputs": [
        {
          "output_type": "execute_result",
          "data": {
            "text/plain": [
              "[<matplotlib.lines.Line2D at 0x7f3e357f7810>]"
            ]
          },
          "metadata": {
            "tags": []
          },
          "execution_count": 27
        },
        {
          "output_type": "display_data",
          "data": {
            "image/png": "[encoded data removed]",
            "text/plain": [
              "<Figure size 432x288 with 1 Axes>"
            ]
          },
          "metadata": {
            "tags": [],
            "needs_background": "light"
          }
        }
      ]
    },
    {
      "cell_type": "code",
      "metadata": {
        "id": "pKt1iZ-uaApO"
      },
      "source": [
        "ann.save('my_model_0.9.h5')"
      ],
      "execution_count": null,
      "outputs": []
    },
    {
      "cell_type": "code",
      "metadata": {
        "id": "jR7KJB57coLk"
      },
      "source": [
        "loded_model = tf.keras.models.load_model('my_model_0.9.h5')"
      ],
      "execution_count": null,
      "outputs": []
    },
    {
      "cell_type": "code",
      "metadata": {
        "id": "quV7JyH6dQVY",
        "colab": {
          "base_uri": "https://localhost:8080/"
        },
        "outputId": "f902a74e-51f5-4f74-bf18-f0208018a107"
      },
      "source": [
        "loded_model.evaluate(test_X, test_y)"
      ],
      "execution_count": null,
      "outputs": [
        {
          "output_type": "stream",
          "text": [
            "4/4 [==============================] - 0s 3ms/step - loss: 147664.4688 - mae: 268.0793 - mse: 147663.1562 - mape: 50.9557\n"
          ],
          "name": "stdout"
        },
        {
          "output_type": "execute_result",
          "data": {
            "text/plain": [
              "[147664.46875, 268.0793151855469, 147663.15625, 50.955684661865234]"
            ]
          },
          "metadata": {
            "tags": []
          },
          "execution_count": 31
        }
      ]
    },
    {
      "cell_type": "code",
      "metadata": {
        "id": "VXr6512tdUgj",
        "colab": {
          "base_uri": "https://localhost:8080/"
        },
        "outputId": "b0dc485a-e6e2-45c5-e1e9-82c1f542286c"
      },
      "source": [
        "loded_model.predict(test_X)"
      ],
      "execution_count": null,
      "outputs": [
        {
          "output_type": "execute_result",
          "data": {
            "text/plain": [
              "array([[1850.052 ],\n",
              "       [1850.052 ],\n",
              "       [1850.052 ],\n",
              "       [1850.052 ],\n",
              "       [1593.5382],\n",
              "       [1789.5801],\n",
              "       [1692.574 ],\n",
              "       [1606.0062],\n",
              "       [1683.2544],\n",
              "       [1639.889 ],\n",
              "       [1752.8645],\n",
              "       [1733.9763],\n",
              "       [1763.0348],\n",
              "       [1662.5891],\n",
              "       [1708.0522],\n",
              "       [1818.0853],\n",
              "       [1752.2751],\n",
              "       [1739.468 ],\n",
              "       [1766.133 ],\n",
              "       [1778.4071],\n",
              "       [1759.3873],\n",
              "       [1797.9604],\n",
              "       [1862.6903],\n",
              "       [1625.721 ],\n",
              "       [1711.8843],\n",
              "       [1685.6038],\n",
              "       [1866.5673],\n",
              "       [1838.3069],\n",
              "       [1613.5369],\n",
              "       [1823.0931],\n",
              "       [1850.052 ],\n",
              "       [1850.052 ],\n",
              "       [1850.052 ],\n",
              "       [1626.3015],\n",
              "       [1707.0873],\n",
              "       [1613.0051],\n",
              "       [1700.3551],\n",
              "       [1550.0846],\n",
              "       [1770.7664],\n",
              "       [1657.2865],\n",
              "       [1555.2328],\n",
              "       [1588.802 ],\n",
              "       [1763.6602],\n",
              "       [1696.604 ],\n",
              "       [1558.2063],\n",
              "       [1617.6844],\n",
              "       [1559.4166],\n",
              "       [1564.2179],\n",
              "       [1642.6339],\n",
              "       [1643.8898],\n",
              "       [1803.4502],\n",
              "       [1566.2893],\n",
              "       [1598.7787],\n",
              "       [1692.8566],\n",
              "       [1763.5098],\n",
              "       [1762.0768],\n",
              "       [1549.2382],\n",
              "       [1599.5867],\n",
              "       [1542.1165],\n",
              "       [1669.3027],\n",
              "       [1540.6063],\n",
              "       [1756.9369],\n",
              "       [1764.9381],\n",
              "       [1640.1365],\n",
              "       [1734.8148],\n",
              "       [1574.4387],\n",
              "       [1765.2424],\n",
              "       [1772.3536],\n",
              "       [1765.1073],\n",
              "       [1774.0323],\n",
              "       [1763.0436],\n",
              "       [1760.3429],\n",
              "       [1552.3851],\n",
              "       [1586.9901],\n",
              "       [1751.7655],\n",
              "       [1760.0616],\n",
              "       [1764.7529],\n",
              "       [1606.9928],\n",
              "       [1693.7555],\n",
              "       [1765.159 ],\n",
              "       [1716.8739],\n",
              "       [1775.2239],\n",
              "       [1594.651 ],\n",
              "       [1553.1439],\n",
              "       [1628.0867],\n",
              "       [1611.1373],\n",
              "       [1773.341 ],\n",
              "       [1567.9209],\n",
              "       [1764.6312],\n",
              "       [1639.3065],\n",
              "       [1761.4647],\n",
              "       [1610.8142],\n",
              "       [1751.4443],\n",
              "       [1571.6704],\n",
              "       [1649.325 ],\n",
              "       [1738.3572],\n",
              "       [1602.9207],\n",
              "       [1623.6539],\n",
              "       [1661.9624],\n",
              "       [1605.7881],\n",
              "       [1563.5043],\n",
              "       [1674.4541],\n",
              "       [1755.225 ],\n",
              "       [1567.6941],\n",
              "       [1679.4171],\n",
              "       [1641.7954],\n",
              "       [1556.9314],\n",
              "       [1551.6326],\n",
              "       [1761.4517],\n",
              "       [1564.1708]], dtype=float32)"
            ]
          },
          "metadata": {
            "tags": []
          },
          "execution_count": 32
        }
      ]
    },
    {
      "cell_type": "code",
      "metadata": {
        "id": "tWqUXBeQmgnu"
      },
      "source": [
        ""
      ],
      "execution_count": null,
      "outputs": []
    }
  ]
}